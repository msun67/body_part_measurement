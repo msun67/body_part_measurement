{
 "cells": [
  {
   "cell_type": "code",
   "execution_count": 1,
   "source": [
    "import sys\r\n",
    "sys.path.append(\"..\")\r\n",
    "import tensorflow as tf\r\n",
    "import keras\r\n",
    "from model.blazepose import BlazePose\r\n",
    "from model.mobilenet_v3 import MobileNetV3\r\n",
    "# from model.applications.mobilenet_v3 import MobileNetV3Small\r\n",
    "from model.measurement_attention_mlp import get_measurement_attention_mlp\r\n",
    "# from model.applications.mobilenet_v2 import MobileNetV2\r\n",
    "# from model.tensorflow.python.keras.applications.mobilenet_v3 import MobileNetV3Small\r\n"
   ],
   "outputs": [],
   "metadata": {}
  },
  {
   "cell_type": "code",
   "execution_count": 2,
   "source": [
    "config = {\r\n",
    "    # common\r\n",
    "    'is_two_head_model': True,\r\n",
    "\r\n",
    "    # model\r\n",
    "    'input_shape': [256,256,3],\r\n",
    "    'batch_size': 4,\r\n",
    "    'path_pretrained': None, \r\n",
    "    'type_backbone': \"mbnv3\", \r\n",
    "    \r\n",
    "    # loss\r\n",
    "    'type_loss_fn': 'wing',\r\n",
    "    \r\n",
    "    # data\r\n",
    "    'path_classes': \"../seg_classes.txt\",\r\n",
    "    'shuffle': True, \r\n",
    "    'is_normalized': False, \r\n",
    "    'is_with_seg': False, \r\n",
    "    'path_dataset': \"C:\\\\Users\\\\user\\\\work\\\\data\\\\body_parts_measurement\",\r\n",
    "    'num_category_bmi': 10,\r\n",
    "    'num_category_height': 10,\r\n",
    "\r\n",
    "    # train\r\n",
    "    'epochs': 30,\r\n",
    "    'eval_term': 2\r\n",
    "}"
   ],
   "outputs": [],
   "metadata": {}
  },
  {
   "cell_type": "code",
   "execution_count": 3,
   "source": [
    "input_shape = config[\"input_shape\"]\r\n",
    "batch_size = config[\"batch_size\"]\r\n",
    "type_backbone = config[\"type_backbone\"]\r\n",
    "is_with_seg = config[\"is_with_seg\"]\r\n",
    "num_category_bmi = config[\"num_category_bmi\"]\r\n",
    "num_category_height = config[\"num_category_height\"]"
   ],
   "outputs": [],
   "metadata": {}
  },
  {
   "cell_type": "code",
   "execution_count": 4,
   "source": [
    "measurement_attention_mlp = get_measurement_attention_mlp(batch_size=batch_size, shape_categorical_data=num_category_bmi + num_category_height)"
   ],
   "outputs": [],
   "metadata": {}
  },
  {
   "cell_type": "code",
   "execution_count": 5,
   "source": [
    "print(measurement_attention_mlp.inputs)\r\n",
    "print(measurement_attention_mlp.outputs)"
   ],
   "outputs": [
    {
     "output_type": "stream",
     "name": "stdout",
     "text": [
      "[<KerasTensor: shape=(4, 20) dtype=float32 (created by layer 'input_1')>]\n",
      "[<KerasTensor: shape=(4, 32, 32, 1) dtype=float32 (created by layer 'tf.reshape')>, <KerasTensor: shape=(4, 16, 16, 1) dtype=float32 (created by layer 'tf.reshape_1')>, <KerasTensor: shape=(4, 8, 8, 1) dtype=float32 (created by layer 'tf.reshape_2')>]\n"
     ]
    }
   ],
   "metadata": {}
  },
  {
   "cell_type": "code",
   "execution_count": 6,
   "source": [
    "input_layer = tf.keras.layers.Input(shape=(256,256,3), batch_size=4)"
   ],
   "outputs": [],
   "metadata": {}
  },
  {
   "cell_type": "code",
   "execution_count": 7,
   "source": [
    "model = MobileNetV3(input_layer=input_layer, type=\"small\", attention_model=measurement_attention_mlp, num_seg_channels=10, num_keypoints=31)"
   ],
   "outputs": [
    {
     "output_type": "stream",
     "name": "stdout",
     "text": [
      "1 (4, 64, 64, 16)\n",
      "2 (4, 32, 32, 24)\n",
      "3 (4, 32, 32, 24)\n",
      "4 (4, 16, 16, 40)\n",
      "5 (4, 16, 16, 40)\n",
      "6 (4, 16, 16, 40)\n",
      "7 (4, 16, 16, 48)\n",
      "8 (4, 16, 16, 48)\n",
      "segs KerasTensor(type_spec=TensorSpec(shape=(4, 128, 128, 10), dtype=tf.float32, name=None), name='p_re_lu_2/add:0', description=\"created by layer 'p_re_lu_2'\")\n",
      "9 (4, 8, 8, 96)\n",
      "10 (4, 8, 8, 96)\n",
      "11 (4, 8, 8, 96)\n",
      "12 (4, 8, 8, 576)\n",
      "13 (4, 2, 2, 577)\n",
      "14 (4, 2, 2, 1280)\n",
      "15 (4, 2, 2, 1000)\n",
      "Model: \"MobileNetV3_small\"\n",
      "__________________________________________________________________________________________________\n",
      "Layer (type)                    Output Shape         Param #     Connected to                     \n",
      "==================================================================================================\n",
      "input_2 (InputLayer)            [(4, 256, 256, 3)]   0                                            \n",
      "__________________________________________________________________________________________________\n",
      "ConvBnAct_0 (ConvBnAct)         (4, 128, 128, 16)    512         input_2[0][0]                    \n",
      "__________________________________________________________________________________________________\n",
      "bneck_1 (BottleNeck)            (4, 64, 64, 16)      992         ConvBnAct_0[0][0]                \n",
      "__________________________________________________________________________________________________\n",
      "input_1 (InputLayer)            [(4, 20)]            0                                            \n",
      "__________________________________________________________________________________________________\n",
      "bneck_2 (BottleNeck)            (4, 32, 32, 24)      4272        bneck_1[0][0]                    \n",
      "__________________________________________________________________________________________________\n",
      "dense (Dense)                   (4, 1024)            21504       input_1[0][0]                    \n",
      "__________________________________________________________________________________________________\n",
      "bneck_3 (BottleNeck)            (4, 32, 32, 24)      5904        bneck_2[0][0]                    \n",
      "__________________________________________________________________________________________________\n",
      "tf.reshape (TFOpLambda)         (4, 32, 32, 1)       0           dense[0][0]                      \n",
      "__________________________________________________________________________________________________\n",
      "tf.concat (TFOpLambda)          (4, 32, 32, 25)      0           bneck_3[0][0]                    \n",
      "                                                                 tf.reshape[0][0]                 \n",
      "__________________________________________________________________________________________________\n",
      "bneck_4 (BottleNeck)            (4, 16, 16, 40)      14272       tf.concat[0][0]                  \n",
      "__________________________________________________________________________________________________\n",
      "bneck_5 (BottleNeck)            (4, 16, 16, 40)      56320       bneck_4[0][0]                    \n",
      "__________________________________________________________________________________________________\n",
      "bneck_6 (BottleNeck)            (4, 16, 16, 40)      56320       bneck_5[0][0]                    \n",
      "__________________________________________________________________________________________________\n",
      "bneck_7 (BottleNeck)            (4, 16, 16, 48)      22032       bneck_6[0][0]                    \n",
      "__________________________________________________________________________________________________\n",
      "dense_1 (Dense)                 (4, 256)             262400      dense[0][0]                      \n",
      "__________________________________________________________________________________________________\n",
      "bneck_8 (BottleNeck)            (4, 16, 16, 48)      29280       bneck_7[0][0]                    \n",
      "__________________________________________________________________________________________________\n",
      "tf.reshape_1 (TFOpLambda)       (4, 16, 16, 1)       0           dense_1[0][0]                    \n",
      "__________________________________________________________________________________________________\n",
      "tf.concat_1 (TFOpLambda)        (4, 16, 16, 49)      0           bneck_8[0][0]                    \n",
      "                                                                 tf.reshape_1[0][0]               \n",
      "__________________________________________________________________________________________________\n",
      "bneck_9 (BottleNeck)            (4, 8, 8, 96)        93408       tf.concat_1[0][0]                \n",
      "__________________________________________________________________________________________________\n",
      "bneck_10 (BottleNeck)           (4, 8, 8, 96)        296448      bneck_9[0][0]                    \n",
      "__________________________________________________________________________________________________\n",
      "bneck_11 (BottleNeck)           (4, 8, 8, 96)        296448      bneck_10[0][0]                   \n",
      "__________________________________________________________________________________________________\n",
      "dense_2 (Dense)                 (4, 64)              16448       dense_1[0][0]                    \n",
      "__________________________________________________________________________________________________\n",
      "ConvBnAct_12 (ConvBnAct)        (4, 8, 8, 576)       58176       bneck_11[0][0]                   \n",
      "__________________________________________________________________________________________________\n",
      "tf.reshape_2 (TFOpLambda)       (4, 8, 8, 1)         0           dense_2[0][0]                    \n",
      "__________________________________________________________________________________________________\n",
      "tf.concat_2 (TFOpLambda)        (4, 8, 8, 577)       0           ConvBnAct_12[0][0]               \n",
      "                                                                 tf.reshape_2[0][0]               \n",
      "__________________________________________________________________________________________________\n",
      "pool_13 (Pool)                  (4, 2, 2, 577)       0           tf.concat_2[0][0]                \n",
      "__________________________________________________________________________________________________\n",
      "conv2d_transpose (Conv2DTranspo (4, 32, 32, 10)      4330        bneck_8[0][0]                    \n",
      "__________________________________________________________________________________________________\n",
      "ConvNBnAct_14 (ConvNBnAct)      (4, 2, 2, 1280)      739840      pool_13[0][0]                    \n",
      "__________________________________________________________________________________________________\n",
      "p_re_lu (PReLU)                 (4, 32, 32, 10)      10240       conv2d_transpose[0][0]           \n",
      "__________________________________________________________________________________________________\n",
      "Dropout (CusDropout)            (4, 2, 2, 1280)      0           ConvNBnAct_14[0][0]              \n",
      "__________________________________________________________________________________________________\n",
      "conv2d_transpose_1 (Conv2DTrans (4, 64, 64, 10)      910         p_re_lu[0][0]                    \n",
      "__________________________________________________________________________________________________\n",
      "ConvNBnAct_15 (ConvNBnAct)      (4, 2, 2, 1000)      1281000     Dropout[0][0]                    \n",
      "__________________________________________________________________________________________________\n",
      "p_re_lu_1 (PReLU)               (4, 64, 64, 10)      40960       conv2d_transpose_1[0][0]         \n",
      "__________________________________________________________________________________________________\n",
      "conv2d (Conv2D)                 (4, 1, 1, 31)        124031      ConvNBnAct_15[0][0]              \n",
      "__________________________________________________________________________________________________\n",
      "conv2d_transpose_2 (Conv2DTrans (4, 128, 128, 10)    910         p_re_lu_1[0][0]                  \n",
      "__________________________________________________________________________________________________\n",
      "tf.reshape_3 (TFOpLambda)       (4, 31)              0           conv2d[0][0]                     \n",
      "__________________________________________________________________________________________________\n",
      "p_re_lu_2 (PReLU)               (4, 128, 128, 10)    163840      conv2d_transpose_2[0][0]         \n",
      "==================================================================================================\n",
      "Total params: 3,600,797\n",
      "Trainable params: 3,588,653\n",
      "Non-trainable params: 12,144\n",
      "__________________________________________________________________________________________________\n"
     ]
    }
   ],
   "metadata": {}
  },
  {
   "cell_type": "code",
   "execution_count": null,
   "source": [
    "print(model.inputs)\r\n",
    "print(model.outputs)"
   ],
   "outputs": [],
   "metadata": {}
  },
  {
   "cell_type": "code",
   "execution_count": null,
   "source": [
    "model.summary()"
   ],
   "outputs": [],
   "metadata": {}
  },
  {
   "cell_type": "code",
   "execution_count": null,
   "source": [
    "model = tf.keras.applications.MobileNetV3Small(include_top=False)"
   ],
   "outputs": [],
   "metadata": {}
  },
  {
   "cell_type": "code",
   "execution_count": null,
   "source": [
    "x = model(input_layer)"
   ],
   "outputs": [],
   "metadata": {}
  },
  {
   "cell_type": "code",
   "execution_count": null,
   "source": [
    "x = tf.keras.layers.DepthwiseConv2D(kernel_size=(3, 3), strides=(2, 2), padding='same', use_bias=True)(model.output)\r\n",
    "x = tf.keras.layers.Conv2D(31, kernel_size=(1, 1), strides=(1, 1), padding='valid')(x)\r\n",
    "x = tf.keras.layers.PReLU(alpha_initializer='uniform')(x)\r\n",
    "output_layer = tf.squeeze(x)"
   ],
   "outputs": [],
   "metadata": {}
  },
  {
   "cell_type": "code",
   "execution_count": null,
   "source": [
    "model = tf.keras.Model(inputs=model.input, outputs=output_layer)"
   ],
   "outputs": [],
   "metadata": {}
  },
  {
   "cell_type": "code",
   "execution_count": null,
   "source": [
    "model.summary()"
   ],
   "outputs": [],
   "metadata": {}
  },
  {
   "cell_type": "code",
   "execution_count": null,
   "source": [
    "for layer in model.layers:\r\n",
    "    layer.trainable=True\r\n",
    "    print(\"layer\",layer)"
   ],
   "outputs": [],
   "metadata": {}
  },
  {
   "cell_type": "code",
   "execution_count": null,
   "source": [
    "model.summary()"
   ],
   "outputs": [],
   "metadata": {}
  },
  {
   "cell_type": "code",
   "execution_count": null,
   "source": [],
   "outputs": [],
   "metadata": {}
  }
 ],
 "metadata": {
  "orig_nbformat": 4,
  "language_info": {
   "name": "python",
   "version": "3.7.5",
   "mimetype": "text/x-python",
   "codemirror_mode": {
    "name": "ipython",
    "version": 3
   },
   "pygments_lexer": "ipython3",
   "nbconvert_exporter": "python",
   "file_extension": ".py"
  },
  "kernelspec": {
   "name": "python3",
   "display_name": "Python 3.7.5 64-bit ('py375tf26g': conda)"
  },
  "interpreter": {
   "hash": "2d10a1d14f906cf696e46041477fc2b17fecaf759e8e084262933cf48dc10c4e"
  }
 },
 "nbformat": 4,
 "nbformat_minor": 2
}