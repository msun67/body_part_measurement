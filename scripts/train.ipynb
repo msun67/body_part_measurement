{
 "cells": [
  {
   "cell_type": "code",
   "execution_count": 1,
   "metadata": {},
   "outputs": [],
   "source": [
    "import tensorflow as tf\n",
    "import numpy as np\n",
    "from matplotlib import pyplot as plt\n",
    "import sys\n",
    "sys.path.append(\"..\")\n",
    "from train import BodyPartsMeasurementTrainer\n",
    "from body_parts_measurement_data_generator import BodyPartsMeasurementDataGenerator\n",
    "import tensorflow as tf\n",
    "from evaluator import Evaluator\n",
    "from model.model import get_model\n",
    "from tqdm import tqdm"
   ]
  },
  {
   "cell_type": "code",
   "execution_count": 2,
   "metadata": {},
   "outputs": [],
   "source": [
    "config = {\n",
    "    # model\n",
    "    'input_shape': [256,256,3],     # 훈련 이미지 크기\n",
    "    'batch_size': 4,                # 배치 사이즈\n",
    "    # 'path_pretrained': \"C:\\\\Users\\\\user\\\\work\\\\body_measurements\\\\body_part_measurement\\\\scripts\\\\blazepose_attention_31features_1002train_mf\\\\blazepose_attention_2_3.405040998284461.h5\",        # pretrained 모델 경로\n",
    "    'path_pretrained': None,\n",
    "    'type_backbone': \"blazepose\",   # backbone type (blazepose, mbnv3)\n",
    "    \n",
    "    # loss\n",
    "    'type_loss_fn': 'wing',         # 손실 함수 설정 (wing, mae)\n",
    "    \n",
    "    # data\n",
    "    'seg_shape': [64,64],           # segmentation 크기 *미사용\n",
    "    'path_classes': \"../seg_classes.txt\",   # segmentation class 정보 *미사용\n",
    "    'shuffle': True,                # 데이터 섞기\n",
    "    'is_normalized': False,         # normalize 데이터\n",
    "    'is_with_seg': False,           # segmentation 사용 여부 *미사용\n",
    "    'path_dataset': \"D:\\\\data\\\\body_parts_measurement\", # 데이터 경로\n",
    "    ## attention type              \n",
    "    'type_attention': \"none\", # attention 종류 (regression, categorical, none)\n",
    "    'num_category_bmi': 10,         # categorical 시의 bmi category 갯수 변수\n",
    "    'num_category_height': 10,      # categorical 시의 height category 갯수 변수\n",
    "    'has_filename': False,\n",
    "\n",
    "    # train\n",
    "    'epochs': 30,                   # 훈련 epoch 수\n",
    "    'eval_term': 1                  # 평가 빈도\n",
    "}"
   ]
  },
  {
   "cell_type": "code",
   "execution_count": 3,
   "metadata": {},
   "outputs": [
    {
     "name": "stdout",
     "output_type": "stream",
     "text": [
      "list_user_dirs ['F002', 'F003', 'F005', 'F006', 'F007', 'F008', 'F009', 'F010', 'F011', 'F013', 'F014', 'F016', 'F017', 'F018', 'F019', 'F020', 'F021', 'F023', 'F024', 'F025', 'F026', 'F028', 'F029', 'F030', 'F032', 'F033', 'F034', 'F035', 'F036', 'F038', 'F039', 'F040', 'F041', 'F042', 'F043', 'F044', 'F045', 'F047', 'F048', 'F050', 'F051', 'F052', 'F053', 'F054', 'F055', 'F058', 'F059', 'F062', 'F065', 'F066', 'F068', 'F070', 'F071', 'F072', 'F073', 'F074', 'F075', 'F076', 'F077', 'F078', 'F079', 'F080', 'F081', 'F082', 'F083', 'F084', 'F085', 'F086', 'F090', 'F091', 'F092', 'F093', 'F094', 'F095', 'F096', 'F097', 'F099', 'F100', 'F101', 'F102', 'F103', 'F104', 'F105', 'F106', 'F107', 'F108', 'F110', 'F111', 'F112', 'F113', 'F115', 'F116', 'F117', 'F118', 'F119', 'F122', 'F123', 'F124', 'F125', 'F126', 'F127', 'F128', 'F130', 'F132', 'F133', 'F135', 'F136', 'F137', 'F138', 'F139', 'F140', 'F141', 'F142', 'F143', 'F144', 'F145', 'F146', 'F147', 'F148', 'F149', 'F150', 'F151', 'F152', 'F154', 'F155', 'F156', 'F157', 'F158', 'F159', 'F160', 'F161', 'F162', 'F163', 'F164', 'F165', 'F166', 'F167', 'F168', 'F172', 'F173', 'F174', 'F175', 'F176', 'F177', 'F178', 'F179', 'F180', 'F181', 'F182', 'F183', 'F185', 'F186', 'F187', 'F189', 'F190', 'F191', 'F193', 'F194', 'F195', 'F196', 'F197', 'F198', 'F199', 'F200', 'F201', 'F202', 'F204', 'F205', 'F207', 'F208', 'F210', 'F211', 'F212', 'F213', 'F215', 'F216', 'F218', 'F219', 'F220', 'F221', 'F222', 'F223', 'F227', 'F228', 'F229', 'F230', 'F231', 'F233', 'F234', 'F235', 'F236', 'F237', 'F238', 'F240', 'F241', 'F242', 'F244', 'F245', 'F246', 'F247', 'F248', 'F249', 'F250', 'F251', 'F254', 'F255', 'F256', 'F257', 'F261', 'F263', 'F264', 'F265', 'F266', 'F268', 'F269', 'F270', 'F271', 'F272', 'F273', 'F274', 'F275', 'F276', 'F277', 'F278', 'F279', 'F281', 'F282', 'F283', 'F284', 'F285', 'F286', 'F287', 'F288', 'F289', 'F291', 'F292', 'F293', 'F294', 'F295', 'F296', 'F297', 'F298', 'F299', 'F300', 'F301', 'F302', 'F303', 'F304', 'F305', 'F306', 'F310', 'F311', 'F313', 'F315', 'F317', 'F318', 'F320', 'F321', 'F322', 'F323', 'F330', 'F331', 'F334', 'F335', 'F336', 'F338', 'F339', 'F340', 'F341', 'F342', 'F345', 'F346', 'F347', 'F348', 'F349', 'F350', 'F351', 'F353', 'F354', 'F355', 'F357', 'F358', 'F359', 'F361', 'F362', 'F363', 'F365', 'F366', 'F367', 'F368', 'F369', 'F370', 'F371', 'F372', 'F373', 'F374', 'F375', 'F377', 'F378', 'F382', 'F384', 'F385', 'F386', 'F387', 'F388', 'F389', 'F390', 'F391', 'F392', 'F393', 'F394', 'F395', 'F396', 'F397', 'F398', 'F399', 'F401', 'F402', 'F404', 'F405', 'F406', 'F407', 'F408', 'F409', 'F410', 'F412', 'F414', 'F415', 'F416', 'F417', 'F418', 'F421', 'F422', 'F424', 'F425', 'F427', 'F428', 'F429', 'F430', 'F431', 'F432', 'F433', 'F434', 'F435', 'F436', 'F437', 'F438', 'F440', 'F441', 'F443', 'F444', 'F445', 'F446', 'F447', 'F449', 'F450', 'F452', 'F453', 'F455', 'F456', 'F457', 'F458', 'F459', 'F461', 'F462', 'F463', 'F464', 'F465', 'F466', 'F467', 'F468', 'F469', 'F471', 'F472', 'F473', 'F474', 'F475', 'F477', 'F478', 'F479', 'F480', 'F481', 'F482', 'F484', 'F485', 'F486', 'F488', 'F491', 'F494', 'F495', 'F496', 'F497', 'F498', 'F499', 'F500', 'F501', 'F502', 'F503', 'F504', 'M001', 'M002', 'M003', 'M005', 'M006', 'M007', 'M008', 'M010', 'M011', 'M013', 'M014', 'M015', 'M016', 'M017', 'M018', 'M019', 'M020', 'M021', 'M023', 'M025', 'M026', 'M028', 'M029', 'M030', 'M032', 'M033', 'M034', 'M035', 'M036', 'M037', 'M039', 'M040', 'M043', 'M044', 'M045', 'M046', 'M047', 'M048', 'M049', 'M050', 'M051', 'M052', 'M053', 'M054', 'M055', 'M057', 'M058', 'M059', 'M060', 'M061', 'M062', 'M064', 'M066', 'M067', 'M069', 'M070', 'M071', 'M075', 'M076', 'M077', 'M078', 'M079', 'M080', 'M082', 'M083', 'M084', 'M085', 'M086', 'M087', 'M092', 'M093', 'M094', 'M095', 'M096', 'M097', 'M098', 'M099', 'M100', 'M102', 'M104', 'M105', 'M106', 'M107', 'M108', 'M109', 'M110', 'M111', 'M112', 'M114', 'M117', 'M118', 'M120', 'M121', 'M122', 'M123', 'M127', 'M129', 'M130', 'M131', 'M132', 'M133', 'M135', 'M136', 'M138', 'M140', 'M141', 'M142', 'M143', 'M144', 'M145', 'M146', 'M147', 'M148', 'M149', 'M152', 'M154', 'M157', 'M158', 'M159', 'M160', 'M161', 'M162', 'M163', 'M164', 'M165', 'M166', 'M168', 'M169', 'M170', 'M171', 'M174', 'M176', 'M177', 'M178', 'M179', 'M180', 'M181', 'M182', 'M183', 'M184', 'M185', 'M186', 'M187', 'M188', 'M189', 'M190', 'M191', 'M192', 'M193', 'M194', 'M196', 'M197', 'M198', 'M202', 'M203', 'M204', 'M205', 'M206', 'M207', 'M208', 'M209', 'M210', 'M211', 'M212', 'M213', 'M214', 'M215', 'M216', 'M217', 'M218', 'M219', 'M220', 'M223', 'M224', 'M226', 'M227', 'M228', 'M229', 'M230', 'M231', 'M232', 'M233', 'M234', 'M235', 'M236', 'M237', 'M238', 'M239', 'M241', 'M242', 'M243', 'M244', 'M245', 'M246', 'M248', 'M249', 'M250', 'M251', 'M252', 'M253', 'M254', 'M256', 'M257', 'M258', 'M259', 'M261', 'M262', 'M263', 'M264', 'M265', 'M266', 'M268', 'M269', 'M270', 'M271', 'M272', 'M273', 'M274', 'M275', 'M276', 'M277', 'M278', 'M279', 'M280', 'M281', 'M282', 'M283', 'M284', 'M287', 'M288', 'M289', 'M290', 'M291', 'M292', 'M293', 'M294', 'M295', 'M296', 'M297', 'M300', 'M302', 'M303', 'M304', 'M305', 'M309', 'M311', 'M312', 'M313', 'M314', 'M316', 'M317', 'M318', 'M319', 'M320', 'M321', 'M322', 'M323', 'M324', 'M325', 'M327', 'M328', 'M329', 'M330', 'M331', 'M332', 'M334', 'M335', 'M339', 'M340', 'M341', 'M342', 'M343', 'M346', 'M347', 'M348', 'M349', 'M350', 'M351', 'M352', 'M355', 'M356', 'M358', 'M359', 'M360', 'M361', 'M363', 'M364', 'M366', 'M367', 'M369', 'M370', 'M371', 'M374', 'M375', 'M376', 'M377', 'M379', 'M380', 'M381', 'M382', 'M385', 'M386', 'M387', 'M388', 'M389', 'M390', 'M391', 'M392', 'M393', 'M394', 'M395', 'M396', 'M397', 'M398', 'M399', 'M402', 'M404', 'M405', 'M406', 'M408', 'M409', 'M410', 'M411', 'M412', 'M413', 'M414', 'M415', 'M416', 'M417', 'M418', 'M419', 'M420', 'M421', 'M424', 'M425', 'M426', 'M427', 'M429', 'M430', 'M431', 'M432', 'M433', 'M434', 'M435', 'M436', 'M437', 'M438', 'M439', 'M440', 'M442', 'M443', 'M444', 'M445', 'M446', 'M447', 'M448', 'M451', 'M452', 'M454', 'M455', 'M456', 'M458', 'M459', 'M460', 'M461', 'M463', 'M467', 'M468', 'M469', 'M470', 'M471', 'M472', 'M474', 'M475', 'M476', 'M477', 'M479', 'M480', 'M481', 'M482', 'M483', 'M484', 'M486', 'M487', 'M488', 'M489', 'M490', 'M492', 'M493', 'M494', 'M495', 'M496', 'M498', 'M499', 'M501', 'M502', 'M503', 'M504', 'M505']\n",
      "list_user_dirs ['F001', 'F012', 'F015', 'F031', 'F046', 'F049', 'F056', 'F067', 'F087', 'F120', 'F131', 'F153', 'F169', 'F171', 'F184', 'F203', 'F209', 'F225', 'F232', 'F243', 'F252', 'F253', 'F260', 'F262', 'F267', 'F280', 'F290', 'F307', 'F309', 'F316', 'F319', 'F326', 'F328', 'F337', 'F343', 'F360', 'F376', 'F381', 'F403', 'F411', 'F420', 'F439', 'F448', 'F451', 'F454', 'F460', 'F483', 'F487', 'F489', 'F490', 'M004', 'M012', 'M031', 'M038', 'M042', 'M063', 'M068', 'M073', 'M089', 'M091', 'M103', 'M115', 'M116', 'M119', 'M124', 'M134', 'M150', 'M151', 'M156', 'M200', 'M201', 'M222', 'M247', 'M267', 'M285', 'M286', 'M298', 'M307', 'M326', 'M333', 'M337', 'M344', 'M354', 'M357', 'M373', 'M378', 'M383', 'M403', 'M407', 'M422', 'M423', 'M428', 'M449', 'M453', 'M457', 'M478', 'M497', 'M500']\n",
      "train from scratch\n"
     ]
    }
   ],
   "source": [
    "trainer = BodyPartsMeasurementTrainer(config)"
   ]
  },
  {
   "cell_type": "code",
   "execution_count": 4,
   "metadata": {},
   "outputs": [
    {
     "name": "stderr",
     "output_type": "stream",
     "text": [
      "epoch:0/30,loss_measurement:6.0332,acc_mape:4.7274:  17%|█▋        | 38441/229770 [5:00:16<25:22:11,  2.09it/s]  "
     ]
    },
    {
     "name": "stdout",
     "output_type": "stream",
     "text": [
      "error OpenCV(4.5.3) C:\\Users\\runneradmin\\AppData\\Local\\Temp\\pip-req-build-c2l3r8zm\\opencv\\modules\\imgproc\\src\\resize.cpp:4051: error: (-215:Assertion failed) !ssize.empty() in function 'cv::resize'\n",
      "\n"
     ]
    },
    {
     "name": "stderr",
     "output_type": "stream",
     "text": [
      "epoch:0/30,loss_measurement:7.3578,acc_mape:6.8925:  45%|████▍     | 103272/229770 [13:33:29<16:01:28,  2.19it/s]  "
     ]
    },
    {
     "name": "stdout",
     "output_type": "stream",
     "text": [
      "error OpenCV(4.5.3) C:\\Users\\runneradmin\\AppData\\Local\\Temp\\pip-req-build-c2l3r8zm\\opencv\\modules\\imgproc\\src\\resize.cpp:4051: error: (-215:Assertion failed) !ssize.empty() in function 'cv::resize'\n",
      "\n"
     ]
    },
    {
     "name": "stderr",
     "output_type": "stream",
     "text": [
      "epoch:0/30,loss_measurement:4.7870,acc_mape:3.5237: 100%|██████████| 229770/229770 [30:13:28<00:00,  2.11it/s]     \n"
     ]
    },
    {
     "name": "stdout",
     "output_type": "stream",
     "text": [
      "loss_epoch_train tf.Tensor(5.0946336, shape=(), dtype=float32)\n",
      "mape_epoch_train tf.Tensor(4.030658, shape=(), dtype=float32)\n"
     ]
    },
    {
     "name": "stderr",
     "output_type": "stream",
     "text": []
    },
    {
     "name": "stdout",
     "output_type": "stream",
     "text": [
      "error OpenCV(4.5.3) C:\\Users\\runneradmin\\AppData\\Local\\Temp\\pip-req-build-c2l3r8zm\\opencv\\modules\\imgproc\\src\\resize.cpp:4051: error: (-215:Assertion failed) !ssize.empty() in function 'cv::resize'\n",
      "\n"
     ]
    },
    {
     "name": "stderr",
     "output_type": "stream",
     "text": [
      "100%|██████████| 28271/28271 [33:04:15<00:00,  4.21s/it]\n"
     ]
    },
    {
     "name": "stdout",
     "output_type": "stream",
     "text": [
      "loss_epoch_val tf.Tensor(4.6576195, shape=(), dtype=float32)\n",
      "mape_epoch_val tf.Tensor(3.5242903, shape=(), dtype=float32)\n"
     ]
    },
    {
     "name": "stderr",
     "output_type": "stream",
     "text": [
      "epoch:1/30,loss_measurement:5.3290,acc_mape:3.8384:  17%|█▋        | 38441/229770 [5:14:20<24:50:08,  2.14it/s] "
     ]
    },
    {
     "name": "stdout",
     "output_type": "stream",
     "text": [
      "error OpenCV(4.5.3) C:\\Users\\runneradmin\\AppData\\Local\\Temp\\pip-req-build-c2l3r8zm\\opencv\\modules\\imgproc\\src\\resize.cpp:4051: error: (-215:Assertion failed) !ssize.empty() in function 'cv::resize'\n",
      "\n"
     ]
    },
    {
     "name": "stderr",
     "output_type": "stream",
     "text": [
      "epoch:1/30,loss_measurement:5.8033,acc_mape:4.8119:  45%|████▍     | 103272/229770 [13:36:12<15:15:04,  2.30it/s]  "
     ]
    },
    {
     "name": "stdout",
     "output_type": "stream",
     "text": [
      "error OpenCV(4.5.3) C:\\Users\\runneradmin\\AppData\\Local\\Temp\\pip-req-build-c2l3r8zm\\opencv\\modules\\imgproc\\src\\resize.cpp:4051: error: (-215:Assertion failed) !ssize.empty() in function 'cv::resize'\n",
      "\n"
     ]
    },
    {
     "name": "stderr",
     "output_type": "stream",
     "text": [
      "epoch:1/30,loss_measurement:4.6712,acc_mape:3.3842: 100%|██████████| 229770/229770 [30:14:14<00:00,  2.11it/s]     \n"
     ]
    },
    {
     "name": "stdout",
     "output_type": "stream",
     "text": [
      "loss_epoch_train tf.Tensor(4.3137903, shape=(), dtype=float32)\n",
      "mape_epoch_train tf.Tensor(3.274978, shape=(), dtype=float32)\n"
     ]
    },
    {
     "name": "stderr",
     "output_type": "stream",
     "text": []
    },
    {
     "name": "stdout",
     "output_type": "stream",
     "text": [
      "error OpenCV(4.5.3) C:\\Users\\runneradmin\\AppData\\Local\\Temp\\pip-req-build-c2l3r8zm\\opencv\\modules\\imgproc\\src\\resize.cpp:4051: error: (-215:Assertion failed) !ssize.empty() in function 'cv::resize'\n",
      "\n"
     ]
    },
    {
     "name": "stderr",
     "output_type": "stream",
     "text": [
      "100%|██████████| 28271/28271 [33:04:32<00:00,  4.21s/it]\n"
     ]
    },
    {
     "name": "stdout",
     "output_type": "stream",
     "text": [
      "loss_epoch_val tf.Tensor(4.603311, shape=(), dtype=float32)\n",
      "mape_epoch_val tf.Tensor(3.490614, shape=(), dtype=float32)\n"
     ]
    },
    {
     "name": "stderr",
     "output_type": "stream",
     "text": [
      "epoch:2/30,loss_measurement:4.0248,acc_mape:2.9016:  17%|█▋        | 38441/229770 [5:16:17<25:13:56,  2.11it/s] "
     ]
    },
    {
     "name": "stdout",
     "output_type": "stream",
     "text": [
      "error OpenCV(4.5.3) C:\\Users\\runneradmin\\AppData\\Local\\Temp\\pip-req-build-c2l3r8zm\\opencv\\modules\\imgproc\\src\\resize.cpp:4051: error: (-215:Assertion failed) !ssize.empty() in function 'cv::resize'\n",
      "\n"
     ]
    },
    {
     "name": "stderr",
     "output_type": "stream",
     "text": [
      "epoch:2/30,loss_measurement:5.1803,acc_mape:4.2093:  45%|████▍     | 103272/229770 [13:39:40<15:52:06,  2.21it/s] "
     ]
    },
    {
     "name": "stdout",
     "output_type": "stream",
     "text": [
      "error OpenCV(4.5.3) C:\\Users\\runneradmin\\AppData\\Local\\Temp\\pip-req-build-c2l3r8zm\\opencv\\modules\\imgproc\\src\\resize.cpp:4051: error: (-215:Assertion failed) !ssize.empty() in function 'cv::resize'\n",
      "\n"
     ]
    },
    {
     "name": "stderr",
     "output_type": "stream",
     "text": [
      "epoch:2/30,loss_measurement:3.9048,acc_mape:2.8465: 100%|██████████| 229770/229770 [30:15:44<00:00,  2.11it/s]     \n"
     ]
    },
    {
     "name": "stdout",
     "output_type": "stream",
     "text": [
      "loss_epoch_train tf.Tensor(3.7556477, shape=(), dtype=float32)\n",
      "mape_epoch_train tf.Tensor(2.781523, shape=(), dtype=float32)\n"
     ]
    },
    {
     "name": "stderr",
     "output_type": "stream",
     "text": []
    },
    {
     "name": "stdout",
     "output_type": "stream",
     "text": [
      "error OpenCV(4.5.3) C:\\Users\\runneradmin\\AppData\\Local\\Temp\\pip-req-build-c2l3r8zm\\opencv\\modules\\imgproc\\src\\resize.cpp:4051: error: (-215:Assertion failed) !ssize.empty() in function 'cv::resize'\n",
      "\n"
     ]
    },
    {
     "name": "stderr",
     "output_type": "stream",
     "text": [
      "100%|██████████| 28271/28271 [33:06:56<00:00,  4.22s/it]\n"
     ]
    },
    {
     "name": "stdout",
     "output_type": "stream",
     "text": [
      "loss_epoch_val tf.Tensor(4.7283444, shape=(), dtype=float32)\n",
      "mape_epoch_val tf.Tensor(3.609859, shape=(), dtype=float32)\n"
     ]
    },
    {
     "name": "stderr",
     "output_type": "stream",
     "text": [
      "epoch:3/30,loss_measurement:3.5723,acc_mape:2.5244:  17%|█▋        | 38441/229770 [5:09:33<24:18:31,  2.19it/s] "
     ]
    },
    {
     "name": "stdout",
     "output_type": "stream",
     "text": [
      "error OpenCV(4.5.3) C:\\Users\\runneradmin\\AppData\\Local\\Temp\\pip-req-build-c2l3r8zm\\opencv\\modules\\imgproc\\src\\resize.cpp:4051: error: (-215:Assertion failed) !ssize.empty() in function 'cv::resize'\n",
      "\n"
     ]
    },
    {
     "name": "stderr",
     "output_type": "stream",
     "text": [
      "epoch:3/30,loss_measurement:3.2723,acc_mape:2.1517:  31%|███       | 71062/229770 [9:25:00<21:01:51,  2.10it/s] \n"
     ]
    },
    {
     "ename": "KeyboardInterrupt",
     "evalue": "",
     "output_type": "error",
     "traceback": [
      "\u001b[1;31m---------------------------------------------------------------------------\u001b[0m",
      "\u001b[1;31mKeyboardInterrupt\u001b[0m                         Traceback (most recent call last)",
      "\u001b[1;32m<ipython-input-4-2c26d16cbddf>\u001b[0m in \u001b[0;36m<module>\u001b[1;34m\u001b[0m\n\u001b[1;32m----> 1\u001b[1;33m \u001b[0mtrainer\u001b[0m\u001b[1;33m.\u001b[0m\u001b[0mstart\u001b[0m\u001b[1;33m(\u001b[0m\u001b[1;33m)\u001b[0m\u001b[1;33m\u001b[0m\u001b[1;33m\u001b[0m\u001b[0m\n\u001b[0m",
      "\u001b[1;32mc:\\Users\\user\\work\\body_measurements\\body_part_measurement\\train.py\u001b[0m in \u001b[0;36mstart\u001b[1;34m(self)\u001b[0m\n\u001b[0;32m     54\u001b[0m             \u001b[0mloss_epoch_val\u001b[0m \u001b[1;33m=\u001b[0m \u001b[1;36m0\u001b[0m\u001b[1;33m\u001b[0m\u001b[1;33m\u001b[0m\u001b[0m\n\u001b[0;32m     55\u001b[0m             \u001b[0mmape_epoch_val\u001b[0m \u001b[1;33m=\u001b[0m \u001b[1;36m0\u001b[0m\u001b[1;33m\u001b[0m\u001b[1;33m\u001b[0m\u001b[0m\n\u001b[1;32m---> 56\u001b[1;33m             \u001b[1;32mfor\u001b[0m \u001b[0mbatch_index\u001b[0m\u001b[1;33m,\u001b[0m \u001b[0mbatch_data\u001b[0m \u001b[1;32min\u001b[0m \u001b[0mtqdm_data_generator_train\u001b[0m\u001b[1;33m:\u001b[0m\u001b[1;33m\u001b[0m\u001b[1;33m\u001b[0m\u001b[0m\n\u001b[0m\u001b[0;32m     57\u001b[0m                 \u001b[1;32mwith\u001b[0m \u001b[0mtf\u001b[0m\u001b[1;33m.\u001b[0m\u001b[0mGradientTape\u001b[0m\u001b[1;33m(\u001b[0m\u001b[1;33m)\u001b[0m \u001b[1;32mas\u001b[0m \u001b[0mtape\u001b[0m\u001b[1;33m:\u001b[0m\u001b[1;33m\u001b[0m\u001b[1;33m\u001b[0m\u001b[0m\n\u001b[0;32m     58\u001b[0m                     \u001b[1;32mif\u001b[0m \u001b[0mself\u001b[0m\u001b[1;33m.\u001b[0m\u001b[0mconfig\u001b[0m\u001b[1;33m[\u001b[0m\u001b[1;34m\"type_attention\"\u001b[0m\u001b[1;33m]\u001b[0m \u001b[1;33m!=\u001b[0m \u001b[1;34m\"none\"\u001b[0m \u001b[1;33m:\u001b[0m\u001b[1;33m\u001b[0m\u001b[1;33m\u001b[0m\u001b[0m\n",
      "\u001b[1;32m~\\anaconda3\\envs\\py375tf26g\\lib\\site-packages\\tqdm\\std.py\u001b[0m in \u001b[0;36m__iter__\u001b[1;34m(self)\u001b[0m\n\u001b[0;32m   1183\u001b[0m \u001b[1;33m\u001b[0m\u001b[0m\n\u001b[0;32m   1184\u001b[0m         \u001b[1;32mtry\u001b[0m\u001b[1;33m:\u001b[0m\u001b[1;33m\u001b[0m\u001b[1;33m\u001b[0m\u001b[0m\n\u001b[1;32m-> 1185\u001b[1;33m             \u001b[1;32mfor\u001b[0m \u001b[0mobj\u001b[0m \u001b[1;32min\u001b[0m \u001b[0miterable\u001b[0m\u001b[1;33m:\u001b[0m\u001b[1;33m\u001b[0m\u001b[1;33m\u001b[0m\u001b[0m\n\u001b[0m\u001b[0;32m   1186\u001b[0m                 \u001b[1;32myield\u001b[0m \u001b[0mobj\u001b[0m\u001b[1;33m\u001b[0m\u001b[1;33m\u001b[0m\u001b[0m\n\u001b[0;32m   1187\u001b[0m                 \u001b[1;31m# Update and possibly print the progressbar.\u001b[0m\u001b[1;33m\u001b[0m\u001b[1;33m\u001b[0m\u001b[1;33m\u001b[0m\u001b[0m\n",
      "\u001b[1;32m~\\anaconda3\\envs\\py375tf26g\\lib\\site-packages\\keras\\utils\\data_utils.py\u001b[0m in \u001b[0;36m__iter__\u001b[1;34m(self)\u001b[0m\n\u001b[0;32m    481\u001b[0m   \u001b[1;32mdef\u001b[0m \u001b[0m__iter__\u001b[0m\u001b[1;33m(\u001b[0m\u001b[0mself\u001b[0m\u001b[1;33m)\u001b[0m\u001b[1;33m:\u001b[0m\u001b[1;33m\u001b[0m\u001b[1;33m\u001b[0m\u001b[0m\n\u001b[0;32m    482\u001b[0m     \u001b[1;34m\"\"\"Create a generator that iterate over the Sequence.\"\"\"\u001b[0m\u001b[1;33m\u001b[0m\u001b[1;33m\u001b[0m\u001b[0m\n\u001b[1;32m--> 483\u001b[1;33m     \u001b[1;32mfor\u001b[0m \u001b[0mitem\u001b[0m \u001b[1;32min\u001b[0m \u001b[1;33m(\u001b[0m\u001b[0mself\u001b[0m\u001b[1;33m[\u001b[0m\u001b[0mi\u001b[0m\u001b[1;33m]\u001b[0m \u001b[1;32mfor\u001b[0m \u001b[0mi\u001b[0m \u001b[1;32min\u001b[0m \u001b[0mrange\u001b[0m\u001b[1;33m(\u001b[0m\u001b[0mlen\u001b[0m\u001b[1;33m(\u001b[0m\u001b[0mself\u001b[0m\u001b[1;33m)\u001b[0m\u001b[1;33m)\u001b[0m\u001b[1;33m)\u001b[0m\u001b[1;33m:\u001b[0m\u001b[1;33m\u001b[0m\u001b[1;33m\u001b[0m\u001b[0m\n\u001b[0m\u001b[0;32m    484\u001b[0m       \u001b[1;32myield\u001b[0m \u001b[0mitem\u001b[0m\u001b[1;33m\u001b[0m\u001b[1;33m\u001b[0m\u001b[0m\n\u001b[0;32m    485\u001b[0m \u001b[1;33m\u001b[0m\u001b[0m\n",
      "\u001b[1;32m~\\anaconda3\\envs\\py375tf26g\\lib\\site-packages\\keras\\utils\\data_utils.py\u001b[0m in \u001b[0;36m<genexpr>\u001b[1;34m(.0)\u001b[0m\n\u001b[0;32m    481\u001b[0m   \u001b[1;32mdef\u001b[0m \u001b[0m__iter__\u001b[0m\u001b[1;33m(\u001b[0m\u001b[0mself\u001b[0m\u001b[1;33m)\u001b[0m\u001b[1;33m:\u001b[0m\u001b[1;33m\u001b[0m\u001b[1;33m\u001b[0m\u001b[0m\n\u001b[0;32m    482\u001b[0m     \u001b[1;34m\"\"\"Create a generator that iterate over the Sequence.\"\"\"\u001b[0m\u001b[1;33m\u001b[0m\u001b[1;33m\u001b[0m\u001b[0m\n\u001b[1;32m--> 483\u001b[1;33m     \u001b[1;32mfor\u001b[0m \u001b[0mitem\u001b[0m \u001b[1;32min\u001b[0m \u001b[1;33m(\u001b[0m\u001b[0mself\u001b[0m\u001b[1;33m[\u001b[0m\u001b[0mi\u001b[0m\u001b[1;33m]\u001b[0m \u001b[1;32mfor\u001b[0m \u001b[0mi\u001b[0m \u001b[1;32min\u001b[0m \u001b[0mrange\u001b[0m\u001b[1;33m(\u001b[0m\u001b[0mlen\u001b[0m\u001b[1;33m(\u001b[0m\u001b[0mself\u001b[0m\u001b[1;33m)\u001b[0m\u001b[1;33m)\u001b[0m\u001b[1;33m)\u001b[0m\u001b[1;33m:\u001b[0m\u001b[1;33m\u001b[0m\u001b[1;33m\u001b[0m\u001b[0m\n\u001b[0m\u001b[0;32m    484\u001b[0m       \u001b[1;32myield\u001b[0m \u001b[0mitem\u001b[0m\u001b[1;33m\u001b[0m\u001b[1;33m\u001b[0m\u001b[0m\n\u001b[0;32m    485\u001b[0m \u001b[1;33m\u001b[0m\u001b[0m\n",
      "\u001b[1;32mc:\\Users\\user\\work\\body_measurements\\body_part_measurement\\body_parts_measurement_data_generator.py\u001b[0m in \u001b[0;36m__getitem__\u001b[1;34m(self, index)\u001b[0m\n\u001b[0;32m     38\u001b[0m         \u001b[0mindexes\u001b[0m \u001b[1;33m=\u001b[0m \u001b[0mself\u001b[0m\u001b[1;33m.\u001b[0m\u001b[0mindexes\u001b[0m\u001b[1;33m[\u001b[0m\u001b[0mindex\u001b[0m\u001b[1;33m*\u001b[0m\u001b[0mself\u001b[0m\u001b[1;33m.\u001b[0m\u001b[0mbatch_size\u001b[0m\u001b[1;33m:\u001b[0m\u001b[1;33m(\u001b[0m\u001b[0mindex\u001b[0m\u001b[1;33m+\u001b[0m\u001b[1;36m1\u001b[0m\u001b[1;33m)\u001b[0m\u001b[1;33m*\u001b[0m\u001b[0mself\u001b[0m\u001b[1;33m.\u001b[0m\u001b[0mbatch_size\u001b[0m\u001b[1;33m]\u001b[0m\u001b[1;33m\u001b[0m\u001b[1;33m\u001b[0m\u001b[0m\n\u001b[0;32m     39\u001b[0m         \u001b[1;31m# Generate data\u001b[0m\u001b[1;33m\u001b[0m\u001b[1;33m\u001b[0m\u001b[1;33m\u001b[0m\u001b[0m\n\u001b[1;32m---> 40\u001b[1;33m         \u001b[1;32mreturn\u001b[0m \u001b[0mself\u001b[0m\u001b[1;33m.\u001b[0m\u001b[0mdata_generation\u001b[0m\u001b[1;33m(\u001b[0m\u001b[0mindexes\u001b[0m\u001b[1;33m)\u001b[0m\u001b[1;33m\u001b[0m\u001b[1;33m\u001b[0m\u001b[0m\n\u001b[0m\u001b[0;32m     41\u001b[0m \u001b[1;33m\u001b[0m\u001b[0m\n\u001b[0;32m     42\u001b[0m     \u001b[1;32mdef\u001b[0m \u001b[0mdata_generation\u001b[0m\u001b[1;33m(\u001b[0m\u001b[0mself\u001b[0m\u001b[1;33m,\u001b[0m \u001b[0mindexes\u001b[0m\u001b[1;33m)\u001b[0m\u001b[1;33m:\u001b[0m\u001b[1;33m\u001b[0m\u001b[1;33m\u001b[0m\u001b[0m\n",
      "\u001b[1;32mc:\\Users\\user\\work\\body_measurements\\body_part_measurement\\body_parts_measurement_data_generator.py\u001b[0m in \u001b[0;36mdata_generation\u001b[1;34m(self, indexes)\u001b[0m\n\u001b[0;32m     66\u001b[0m                         \u001b[0mbatch_images\u001b[0m\u001b[1;33m[\u001b[0m\u001b[0midx_batch\u001b[0m\u001b[1;33m,\u001b[0m\u001b[1;33m]\u001b[0m\u001b[1;33m,\u001b[0m \u001b[0mbatch_body_parts_measurement\u001b[0m\u001b[1;33m[\u001b[0m\u001b[0midx_batch\u001b[0m\u001b[1;33m,\u001b[0m\u001b[1;33m]\u001b[0m\u001b[1;33m,\u001b[0m \u001b[0mbatch_segs\u001b[0m\u001b[1;33m[\u001b[0m\u001b[0midx_batch\u001b[0m\u001b[1;33m,\u001b[0m\u001b[1;33m]\u001b[0m \u001b[1;33m=\u001b[0m \u001b[0mself\u001b[0m\u001b[1;33m.\u001b[0m\u001b[0mget_data\u001b[0m\u001b[1;33m(\u001b[0m\u001b[0midx_id\u001b[0m\u001b[1;33m)\u001b[0m\u001b[1;33m\u001b[0m\u001b[1;33m\u001b[0m\u001b[0m\n\u001b[0;32m     67\u001b[0m                     \u001b[1;32melse\u001b[0m \u001b[1;33m:\u001b[0m\u001b[1;33m\u001b[0m\u001b[1;33m\u001b[0m\u001b[0m\n\u001b[1;32m---> 68\u001b[1;33m                         \u001b[0mbatch_images\u001b[0m\u001b[1;33m[\u001b[0m\u001b[0midx_batch\u001b[0m\u001b[1;33m,\u001b[0m\u001b[1;33m]\u001b[0m\u001b[1;33m,\u001b[0m \u001b[0mbatch_body_parts_measurement\u001b[0m\u001b[1;33m[\u001b[0m\u001b[0midx_batch\u001b[0m\u001b[1;33m,\u001b[0m\u001b[1;33m]\u001b[0m \u001b[1;33m=\u001b[0m \u001b[0mself\u001b[0m\u001b[1;33m.\u001b[0m\u001b[0mget_data\u001b[0m\u001b[1;33m(\u001b[0m\u001b[0midx_id\u001b[0m\u001b[1;33m)\u001b[0m\u001b[1;33m\u001b[0m\u001b[1;33m\u001b[0m\u001b[0m\n\u001b[0m\u001b[0;32m     69\u001b[0m             \u001b[1;32mexcept\u001b[0m \u001b[0mException\u001b[0m \u001b[1;32mas\u001b[0m \u001b[0me\u001b[0m\u001b[1;33m:\u001b[0m\u001b[1;33m\u001b[0m\u001b[1;33m\u001b[0m\u001b[0m\n\u001b[0;32m     70\u001b[0m                 \u001b[0mprint\u001b[0m\u001b[1;33m(\u001b[0m\u001b[1;34m\"error\"\u001b[0m\u001b[1;33m,\u001b[0m\u001b[0mstr\u001b[0m\u001b[1;33m(\u001b[0m\u001b[0me\u001b[0m\u001b[1;33m)\u001b[0m\u001b[1;33m)\u001b[0m\u001b[1;33m\u001b[0m\u001b[1;33m\u001b[0m\u001b[0m\n",
      "\u001b[1;32mc:\\Users\\user\\work\\body_measurements\\body_part_measurement\\body_parts_measurement_data_generator.py\u001b[0m in \u001b[0;36mget_data\u001b[1;34m(self, idx_id)\u001b[0m\n\u001b[0;32m     84\u001b[0m         \u001b[0mpath_json\u001b[0m \u001b[1;33m=\u001b[0m \u001b[0mself\u001b[0m\u001b[1;33m.\u001b[0m\u001b[0mlist_data\u001b[0m\u001b[1;33m[\u001b[0m\u001b[0midx_id\u001b[0m\u001b[1;33m]\u001b[0m\u001b[1;33m[\u001b[0m\u001b[1;36m1\u001b[0m\u001b[1;33m]\u001b[0m\u001b[1;33m\u001b[0m\u001b[1;33m\u001b[0m\u001b[0m\n\u001b[0;32m     85\u001b[0m         \u001b[0mbody_parts_measurement\u001b[0m \u001b[1;33m=\u001b[0m \u001b[0mself\u001b[0m\u001b[1;33m.\u001b[0m\u001b[0mlist_data\u001b[0m\u001b[1;33m[\u001b[0m\u001b[0midx_id\u001b[0m\u001b[1;33m]\u001b[0m\u001b[1;33m[\u001b[0m\u001b[1;36m2\u001b[0m\u001b[1;33m]\u001b[0m\u001b[1;33m\u001b[0m\u001b[1;33m\u001b[0m\u001b[0m\n\u001b[1;32m---> 86\u001b[1;33m         \u001b[0mimg\u001b[0m \u001b[1;33m=\u001b[0m \u001b[0mcv2\u001b[0m\u001b[1;33m.\u001b[0m\u001b[0mimread\u001b[0m\u001b[1;33m(\u001b[0m\u001b[0mpath_img\u001b[0m\u001b[1;33m)\u001b[0m\u001b[1;33m\u001b[0m\u001b[1;33m\u001b[0m\u001b[0m\n\u001b[0m\u001b[0;32m     87\u001b[0m         \u001b[1;32mif\u001b[0m \u001b[0mself\u001b[0m\u001b[1;33m.\u001b[0m\u001b[0mis_with_seg\u001b[0m \u001b[1;33m:\u001b[0m\u001b[1;33m\u001b[0m\u001b[1;33m\u001b[0m\u001b[0m\n\u001b[0;32m     88\u001b[0m             \u001b[0mimg_shape\u001b[0m \u001b[1;33m=\u001b[0m \u001b[0mimg\u001b[0m\u001b[1;33m.\u001b[0m\u001b[0mshape\u001b[0m\u001b[1;33m\u001b[0m\u001b[1;33m\u001b[0m\u001b[0m\n",
      "\u001b[1;31mKeyboardInterrupt\u001b[0m: "
     ]
    }
   ],
   "source": [
    "trainer.start()"
   ]
  },
  {
   "cell_type": "code",
   "execution_count": null,
   "metadata": {},
   "outputs": [],
   "source": [
    "\n",
    "print(data[2].shape)\n",
    "print(np.amax(data[2]))"
   ]
  },
  {
   "cell_type": "code",
   "execution_count": null,
   "metadata": {},
   "outputs": [],
   "source": [
    "plt.imshow(data[2][0,:,:,0])\n",
    "plt.show()"
   ]
  },
  {
   "cell_type": "code",
   "execution_count": null,
   "metadata": {},
   "outputs": [],
   "source": [
    "result = model.predict(data[0])"
   ]
  },
  {
   "cell_type": "code",
   "execution_count": null,
   "metadata": {},
   "outputs": [],
   "source": [
    "trainer.start()"
   ]
  },
  {
   "cell_type": "code",
   "execution_count": null,
   "metadata": {},
   "outputs": [],
   "source": [
    "model.outputs"
   ]
  },
  {
   "cell_type": "code",
   "execution_count": null,
   "metadata": {},
   "outputs": [],
   "source": [
    "mbnv3.outputs"
   ]
  },
  {
   "cell_type": "code",
   "execution_count": null,
   "metadata": {},
   "outputs": [],
   "source": [
    "mbnv2.outputs"
   ]
  },
  {
   "cell_type": "code",
   "execution_count": null,
   "metadata": {},
   "outputs": [],
   "source": [
    "x = tf.keras.layers.MaxPooling2D(pool_size=(4, 4), strides=(4, 4), padding='valid')(mbnv2.outputs[0])\n",
    "\n",
    "print(x)\n",
    "\n",
    "x = tf.keras.layers.DepthwiseConv2D(kernel_size=(3, 3), strides=(2, 2), padding='same', use_bias=True)(x)\n",
    "x = tf.keras.layers.Conv2D(36, kernel_size=(1, 1), strides=(1, 1), padding='valid')(x)\n",
    "x = tf.keras.layers.PReLU(alpha_initializer='uniform')(x)\n",
    "x = tf.squeeze(x)\n",
    "print(x)\n",
    "\n",
    "# x = tf.keras.layers.DepthwiseConv2D(kernel_size=(3, 3), strides=(2, 2), padding='same', use_bias=True)(mbnv2.outputs[0])\n",
    "# x = tf.keras.layers.Conv2D(128, kernel_size=(1, 1), strides=(1, 1), padding='valid')(x)\n",
    "# x = tf.keras.layers.Add()([shortcut, x])"
   ]
  },
  {
   "cell_type": "code",
   "execution_count": null,
   "metadata": {},
   "outputs": [],
   "source": []
  }
 ],
 "metadata": {
  "interpreter": {
   "hash": "2d10a1d14f906cf696e46041477fc2b17fecaf759e8e084262933cf48dc10c4e"
  },
  "kernelspec": {
   "display_name": "Python 3.7.5 64-bit ('py375tf26g': conda)",
   "name": "python3"
  },
  "language_info": {
   "codemirror_mode": {
    "name": "ipython",
    "version": 3
   },
   "file_extension": ".py",
   "mimetype": "text/x-python",
   "name": "python",
   "nbconvert_exporter": "python",
   "pygments_lexer": "ipython3",
   "version": "3.7.5"
  },
  "orig_nbformat": 4
 },
 "nbformat": 4,
 "nbformat_minor": 2
}
